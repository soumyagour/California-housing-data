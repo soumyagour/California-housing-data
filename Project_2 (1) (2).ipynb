{
  "nbformat": 4,
  "nbformat_minor": 0,
  "metadata": {
    "colab": {
      "private_outputs": true,
      "provenance": []
    },
    "kernelspec": {
      "name": "python3",
      "display_name": "Python 3"
    },
    "language_info": {
      "name": "python"
    }
  },
  "cells": [
    {
      "cell_type": "code",
      "source": [
        "df = pd.read_csv(\"C:\\Users\\gaurs\\Downloads\\housing.csv\")\n",
        "print(df)"
      ],
      "metadata": {
        "id": "MfgXZ1p5RtLP"
      },
      "execution_count": null,
      "outputs": []
    },
    {
      "cell_type": "code",
      "source": [
        "#INTRODUCTION: This is the california housing data.By analysing this data we will \n",
        "#determine the approximate price for the houses.The main aim of this dataset is to predict the median house prices for california.\n"
      ],
      "metadata": {
        "id": "I8vU-xN2Dh-n"
      },
      "execution_count": null,
      "outputs": []
    },
    {
      "cell_type": "code",
      "source": [
        "#FEATURES:\n",
        "\n",
        "#1.longitude:A measure of distance a house is located horizontally that is from west to east,a higher\n",
        " #value is further towards west. it comes under numerical data type, i.e.,Continuous data.\n",
        "\n",
        "#2.latitude:A measure of distance a house is located vertically that is towards north,a higher value is \n",
        "#further towards north.it comes under numerical data type, i.e.,Continuous data\n",
        "\n",
        "#3.housing_median_age:It is Median age of a house. It \n",
        "#is of quantitative datatype,i.e.,Continuous data.\n",
        "\n",
        "#4.total_rooms:Total number of rooms within a block. It\n",
        " #is of quantitative data type,i.e.,discrete data.\n",
        "\n",
        "#5.total_bedrooms:Total number of bedrooms within a block. \n",
        " #It is of quantitative data type,i.e.,discrete data.\n",
        "\n",
        "#6.population:Total number of people residing within a block. \n",
        "#It is of quantitative data type,i.e.,discrete data.\n",
        "\n",
        "#7.households:Total number of households,a group of people residing within a \n",
        "#homeunit.It is of quantitative data type,i.e.,discrete data.\n",
        "\n",
        "#8.median_income:Median income of households within a block of houses.\n",
        "#It comes under continuous data.\n",
        "\n",
        "#9.median_house_value:Median house value for households within a block\n",
        "#(measured in US Dollars).It comes under continuous data.\n",
        "\n",
        "#10.Ocean_proximity:Location of the house with respect to ocean. \n",
        "#It is of categorical data i.e.,it is of nominal data type."
      ],
      "metadata": {
        "id": "xdLW4fr_DiBv"
      },
      "execution_count": null,
      "outputs": []
    },
    {
      "cell_type": "code",
      "source": [
        "from google.colab import files\n",
        "uploaded=files.upload()"
      ],
      "metadata": {
        "id": "lPlkM5Z6RtOV"
      },
      "execution_count": null,
      "outputs": []
    },
    {
      "cell_type": "code",
      "source": [
        "import numpy as np\n",
        "import pandas as pd\n",
        "import seaborn as sns\n",
        "import matplotlib.pyplot as plt\n"
      ],
      "metadata": {
        "id": "VLNEX2ytRtRu"
      },
      "execution_count": null,
      "outputs": []
    },
    {
      "cell_type": "code",
      "source": [
        "df= pd.read_csv(\"housing.csv\")\n",
        "df"
      ],
      "metadata": {
        "id": "R8qMUpXlRtUh"
      },
      "execution_count": null,
      "outputs": []
    },
    {
      "cell_type": "code",
      "source": [
        "df.shape #shape func() gives us the total number of rows and columns present in a dataset."
      ],
      "metadata": {
        "id": "Tsl16sQ9MZeL"
      },
      "execution_count": null,
      "outputs": []
    },
    {
      "cell_type": "code",
      "source": [
        "df.dtypes #The dtype() function is used to create a data type object."
      ],
      "metadata": {
        "id": "AK8G_GTwMc5I"
      },
      "execution_count": null,
      "outputs": []
    },
    {
      "cell_type": "code",
      "source": [],
      "metadata": {
        "id": "nHRXVGPZMhyB"
      },
      "execution_count": null,
      "outputs": []
    },
    {
      "cell_type": "code",
      "source": [
        "#1.What is the average median income of the data set and check the distribution of data using appropriate plots? Please explain the distribution of the plot.\n",
        "df['median_income'].mean() #mean()function gives the mean of the values"
      ],
      "metadata": {
        "id": "I5HUckaWRtXM"
      },
      "execution_count": null,
      "outputs": []
    },
    {
      "cell_type": "code",
      "source": [
        "#As can be seen from the code above, this dataset's average median income is 3.8706, or 3.9."
      ],
      "metadata": {
        "id": "UqsWbBTti1c-"
      },
      "execution_count": null,
      "outputs": []
    },
    {
      "cell_type": "code",
      "source": [
        "df.hist(bins=40,figsize=(16,16)) ##Histogram is used to see the distribution of a numerical value\n",
        "plt.show()"
      ],
      "metadata": {
        "id": "7HxM9o_Ji1g1"
      },
      "execution_count": null,
      "outputs": []
    },
    {
      "cell_type": "code",
      "source": [
        "#From the above plot, it can be seen that the housing_median_age and the median_house_value both have outliers,\n",
        "#whereas the total_rooms, total_bedrooms, population, households , and median_income are all right-skewed.\n",
        "#While being highly asymmetric, latitude and logitude are."
      ],
      "metadata": {
        "id": "i_zGor3zGcef"
      },
      "execution_count": null,
      "outputs": []
    },
    {
      "cell_type": "code",
      "source": [],
      "metadata": {
        "id": "oEyUUviBGcpy"
      },
      "execution_count": null,
      "outputs": []
    },
    {
      "cell_type": "code",
      "source": [
        "#2.Draw an appropriate plot for housing_median_age and explain your observations.\n",
        "plt.hist(df[\"housing_median_age\"],color='b')   \n",
        "plt.title(\"housing_median_age- Histogram plot\")     # x-axis=housing_median_age,y-axis=Frequencies \n",
        "plt.xlabel(\"housing_median_age\")\n",
        "plt.ylabel(\"Frequencies\")\n",
        "plt.grid(True)\n",
        "plt.show()"
      ],
      "metadata": {
        "id": "nYRkVpzLi1km"
      },
      "execution_count": null,
      "outputs": []
    },
    {
      "cell_type": "code",
      "source": [
        "#From the above hist plot we  come to the analysis that it is distributed symmetrically.\n",
        "#we can know the skewness of the above plot by using :Skewed =3*(mean-median)/std()\n",
        "df['housing_median_age'].mean()"
      ],
      "metadata": {
        "id": "kZAOUQJ_Gxrt"
      },
      "execution_count": null,
      "outputs": []
    },
    {
      "cell_type": "code",
      "source": [
        "df['housing_median_age'].median()"
      ],
      "metadata": {
        "id": "IdhjVkj7L4kg"
      },
      "execution_count": null,
      "outputs": []
    },
    {
      "cell_type": "code",
      "source": [
        "df['housing_median_age'].std()"
      ],
      "metadata": {
        "id": "rv89oqcJRW_U"
      },
      "execution_count": null,
      "outputs": []
    },
    {
      "cell_type": "code",
      "source": [
        "Skewed=3*(28.63-29.0)/12.58\n",
        "Skewed"
      ],
      "metadata": {
        "id": "MZWQgKXiRXCP"
      },
      "execution_count": null,
      "outputs": []
    },
    {
      "cell_type": "code",
      "source": [
        "#The above plot's skewness is 0.08, which ranges from -0.5 to -0.1. Last but not least, it should be noted that the housing\n",
        "# median age is perfectly symmetrical based on the visualisation plot and the Skewness.\n"
      ],
      "metadata": {
        "id": "aSGdDPj2RXFI"
      },
      "execution_count": null,
      "outputs": []
    },
    {
      "cell_type": "code",
      "source": [],
      "metadata": {
        "id": "7k8OrZbIRg8Q"
      },
      "execution_count": null,
      "outputs": []
    },
    {
      "cell_type": "code",
      "source": [
        " #3. Show with the help of visualization, how median_income and median_house_values are related?\n",
        " sns.scatterplot(x=\"median_house_value\",y=\"median_income\",data=df,color = 'b') #scatter plot gives a relation between two numerical values.\n",
        "                                                                #x-axis median_house_value  #Y axis median_income"
      ],
      "metadata": {
        "id": "U8n81OhWi1od"
      },
      "execution_count": null,
      "outputs": []
    },
    {
      "cell_type": "code",
      "source": [
        "#From the above visualisation it is to be analysed that with an increase in the median_house_value there is also an increase in\n",
        "#the median income.While,an outlier is present in median_house_value which is shown in the fig.Therefore,median_house_value is\n",
        "#directly proportional to median income."
      ],
      "metadata": {
        "id": "qybZfb-3G-ZK"
      },
      "execution_count": null,
      "outputs": []
    },
    {
      "cell_type": "code",
      "source": [],
      "metadata": {
        "id": "-4YJN4BmL5nV"
      },
      "execution_count": null,
      "outputs": []
    },
    {
      "cell_type": "code",
      "source": [
        "#4.Create a data set by deleting the corresponding examples from the data set for which total_bedrooms are not available.\n",
        "df[df.isnull().any(axis=1)] #The isnull() method returns a DataFrame object where all the values are \n",
        "                            #replaced with a Boolean value True for NULL values, and otherwise False.\n",
        "                            #Here missing values are denoted by NaN"
      ],
      "metadata": {
        "id": "wiZO10rNG-hB"
      },
      "execution_count": null,
      "outputs": []
    },
    {
      "cell_type": "code",
      "source": [
        "#In the above code,missing values are identified by using isnull()method.This missing values are identified in the column 'total_bedrooms'."
      ],
      "metadata": {
        "id": "EHEui0ktG-nQ"
      },
      "execution_count": null,
      "outputs": []
    },
    {
      "cell_type": "code",
      "source": [
        "new_data=df.dropna(subset=[\"total_bedrooms\"])#dropna() method allows the user to analyze and drop Rows/Columns with Null values in different ways.\n",
        "new_data"
      ],
      "metadata": {
        "id": "smq9okk2G-qV"
      },
      "execution_count": null,
      "outputs": []
    },
    {
      "cell_type": "code",
      "source": [
        "#While in the above code the missing values are dropped from the column named'total_bedrooms'by using dropna() method."
      ],
      "metadata": {
        "id": "pHvQTXDoG-s7"
      },
      "execution_count": null,
      "outputs": []
    },
    {
      "cell_type": "code",
      "source": [],
      "metadata": {
        "id": "snYzfkucG-vk"
      },
      "execution_count": null,
      "outputs": []
    },
    {
      "cell_type": "code",
      "source": [
        "#5.Create a data set by filling the missing data with the mean value of the total_bedrooms in the original data set."
      ],
      "metadata": {
        "id": "WqwNrnjwG-ym"
      },
      "execution_count": null,
      "outputs": []
    },
    {
      "cell_type": "code",
      "source": [
        "df[\"total_bedrooms\"]=df[\"total_bedrooms\"].fillna(df['total_bedrooms'].mean())\n",
        "df"
      ],
      "metadata": {
        "id": "NZD3UyE2IaLP"
      },
      "execution_count": null,
      "outputs": []
    },
    {
      "cell_type": "code",
      "source": [
        "#In the preceding code, a new dataset was created in which the missing values in the 'total bedrooms,' denoted by NaN,\n",
        "# were replaced with the mean value of the 'total bedrooms.'"
      ],
      "metadata": {
        "id": "H7xnEUh8IaN6"
      },
      "execution_count": null,
      "outputs": []
    },
    {
      "cell_type": "code",
      "source": [],
      "metadata": {
        "id": "bD_b9Y6-QSma"
      },
      "execution_count": null,
      "outputs": []
    },
    {
      "cell_type": "code",
      "source": [
        "#6.Write a programming construct to calculate the median value of the data set wherever required."
      ],
      "metadata": {
        "id": "TSqewpdlIaTK"
      },
      "execution_count": null,
      "outputs": []
    },
    {
      "cell_type": "code",
      "source": [
        "#A median for a dataframe can be known by using: df['column_name'].median()"
      ],
      "metadata": {
        "id": "TTPBA-Y_IaWM"
      },
      "execution_count": null,
      "outputs": []
    },
    {
      "cell_type": "code",
      "source": [
        "df['longitude'].median() #median function() gives the median value that is 50th percentile of the set of all observations.\n",
        "\n"
      ],
      "metadata": {
        "id": "8kil5G6UIaZv"
      },
      "execution_count": null,
      "outputs": []
    },
    {
      "cell_type": "code",
      "source": [
        "df['housing_median_age'].median() "
      ],
      "metadata": {
        "id": "epgqO0PvJgOv"
      },
      "execution_count": null,
      "outputs": []
    },
    {
      "cell_type": "code",
      "source": [
        "df['total_rooms'].median()"
      ],
      "metadata": {
        "id": "zbF3fyA7JgR9"
      },
      "execution_count": null,
      "outputs": []
    },
    {
      "cell_type": "code",
      "source": [
        "df['total_bedrooms'].median()"
      ],
      "metadata": {
        "id": "0RbeufPxJgUy"
      },
      "execution_count": null,
      "outputs": []
    },
    {
      "cell_type": "code",
      "source": [
        "df['population'].median()"
      ],
      "metadata": {
        "id": "cWEtWxv1JgXj"
      },
      "execution_count": null,
      "outputs": []
    },
    {
      "cell_type": "code",
      "source": [
        "df['households'].median()"
      ],
      "metadata": {
        "id": "PbnrW5WBJgaZ"
      },
      "execution_count": null,
      "outputs": []
    },
    {
      "cell_type": "code",
      "source": [
        "df['median_income'].median()"
      ],
      "metadata": {
        "id": "T8TPghWlJqZj"
      },
      "execution_count": null,
      "outputs": []
    },
    {
      "cell_type": "code",
      "source": [
        "df['median_house_value'].median()"
      ],
      "metadata": {
        "id": "nNdupb44Jqc7"
      },
      "execution_count": null,
      "outputs": []
    },
    {
      "cell_type": "code",
      "source": [],
      "metadata": {
        "id": "1MvaYuihKXA1"
      },
      "execution_count": null,
      "outputs": []
    },
    {
      "cell_type": "code",
      "source": [
        "#7.Plot latitude versus longitude and explain your observations."
      ],
      "metadata": {
        "id": "z4XvsOMdJqgx"
      },
      "execution_count": null,
      "outputs": []
    },
    {
      "cell_type": "code",
      "source": [
        "sns.scatterplot(x='latitude',y='longitude',data=df, color = 'r')  #Scatter plot gives a relationship between two numerical values.\n",
        "                                                     #x-axis = latitude #y-axis = longitude"
      ],
      "metadata": {
        "id": "_ul4VQXpJgdg"
      },
      "execution_count": null,
      "outputs": []
    },
    {
      "cell_type": "code",
      "source": [
        "#From the above plot, it is clear that as longitude decreases, latitude increases.\n",
        "#It is important to understand that latitude and longitude are not mutually exclusive. \n",
        "#We can conclude that longitude is inversely proportional to latitude.\n",
        "\n",
        "#From the above plot, it is clear that as longitude decreases, latitude increases.\n",
        "#It is important to understand that latitude and longitude are not mutually exclusive. \n",
        "#We can conclude that longitude is inversely proportional to latitude."
      ],
      "metadata": {
        "id": "L3gJX-H2KPre"
      },
      "execution_count": null,
      "outputs": []
    },
    {
      "cell_type": "code",
      "source": [],
      "metadata": {
        "id": "F3Fgc9PrKmhn"
      },
      "execution_count": null,
      "outputs": []
    },
    {
      "cell_type": "code",
      "source": [
        "#8.Create a data set for which the ocean_proximity is Near ocean."
      ],
      "metadata": {
        "id": "T9uR6ZHTKPuk"
      },
      "execution_count": null,
      "outputs": []
    },
    {
      "cell_type": "code",
      "source": [
        "new_data=df.loc[df[\"ocean_proximity\"]==\"NEAR OCEAN\"] # loc is an label based method which is used to select rows and columns by Names/Labels.\n",
        "new_data                                             #loc is an essential pandas methods used for filtering ,selecting and manipulating the data."
      ],
      "metadata": {
        "id": "ICtDCua5KPxX"
      },
      "execution_count": null,
      "outputs": []
    },
    {
      "cell_type": "code",
      "source": [],
      "metadata": {
        "id": "Hxf9I3ZbKP0e"
      },
      "execution_count": null,
      "outputs": []
    },
    {
      "cell_type": "code",
      "source": [
        "#9.Find the mean and median of the median income for the data set created in question 8.\n",
        "new_data['median_income'].mean() #mean() gives the averages of the data"
      ],
      "metadata": {
        "id": "WPaGau0sKP3h"
      },
      "execution_count": null,
      "outputs": []
    },
    {
      "cell_type": "code",
      "source": [
        "new_data['median_income'].median() #median()value gives the 50th percentile of the set of all observations."
      ],
      "metadata": {
        "id": "PrlFf7nJKn7g"
      },
      "execution_count": null,
      "outputs": []
    },
    {
      "cell_type": "code",
      "source": [
        "#In the newly created dataset, the mean and median values of'median_income' are 4.005784 and 3.64705, respectively."
      ],
      "metadata": {
        "id": "jbASPhuqKn-i"
      },
      "execution_count": null,
      "outputs": []
    },
    {
      "cell_type": "code",
      "source": [],
      "metadata": {
        "id": "gHSnkE0jKoBJ"
      },
      "execution_count": null,
      "outputs": []
    },
    {
      "cell_type": "code",
      "source": [
        "#10.Please create a new column named total_bedroom_size. If size 10 or less. It should be quoted as small.\n",
        "# If the size is 11 or more but 1000 less, it should be medium, otherwise it should be large.\n",
        "\n",
        "import numpy as np\n",
        "conditions = [\n",
        "              (df['total_bedrooms'] <=10),\n",
        "              (df['total_bedrooms'] >=11)&(df['total_bedrooms'] <=1000),\n",
        "              (df['total_bedrooms'] > 1000)\n",
        "             ]\n",
        "values = ['small','medium','large']\n",
        "\n",
        "df['total_bedroom_size']=np.select(conditions,values)\n",
        "\n",
        "df"
      ],
      "metadata": {
        "id": "CAqFUatYKoD1"
      },
      "execution_count": null,
      "outputs": []
    },
    {
      "cell_type": "code",
      "source": [
        "#In the above data set a new column named total_bedroom_size had been added."
      ],
      "metadata": {
        "id": "12tdYvIEKoHL"
      },
      "execution_count": null,
      "outputs": []
    },
    {
      "cell_type": "code",
      "source": [
        "#CONCLUSION: \n",
        "#1.Outliers can be found in housing_median_age and median_house_value in this dataset.  \n",
        "\n",
        "#2.Except for ocean_proximity, which is of object datatype, all of the features in this dataset are of float type.\n",
        "\n",
        "#3.The skewness value of housing_median_age is fairly symmetric (-0.5 to -0.1).\n",
        "\n",
        "#4.As a result of the positive correlation, the plot of median_income vs median_house_values is directly proportional to each other.\n",
        "\n",
        "#5.The relationship between latitude and longitude is inversely proportional, as increasing latitude causes a decrease in longitude.\n",
        "#As a result, it has an inverse relationship."
      ],
      "metadata": {
        "id": "PK18UwQ8LSTQ"
      },
      "execution_count": null,
      "outputs": []
    },
    {
      "cell_type": "code",
      "source": [],
      "metadata": {
        "id": "TYcNmIvLLSWt"
      },
      "execution_count": null,
      "outputs": []
    },
    {
      "cell_type": "code",
      "source": [],
      "metadata": {
        "id": "S-wOFyk7LSZN"
      },
      "execution_count": null,
      "outputs": []
    },
    {
      "cell_type": "code",
      "source": [],
      "metadata": {
        "id": "FIJcnywBLSic"
      },
      "execution_count": null,
      "outputs": []
    }
  ]
}